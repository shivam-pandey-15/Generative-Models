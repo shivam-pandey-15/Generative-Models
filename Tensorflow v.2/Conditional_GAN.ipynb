{
  "nbformat": 4,
  "nbformat_minor": 0,
  "metadata": {
    "colab": {
      "name": "Conditional_GAN.ipynb",
      "version": "0.3.2",
      "provenance": [],
      "collapsed_sections": [],
      "machine_shape": "hm",
      "include_colab_link": true
    },
    "kernelspec": {
      "name": "python3",
      "display_name": "Python 3"
    },
    "accelerator": "GPU"
  },
  "cells": [
    {
      "cell_type": "markdown",
      "metadata": {
        "id": "view-in-github",
        "colab_type": "text"
      },
      "source": [
        "<a href=\"https://colab.research.google.com/github/shivam-pandey-15/Generative-Models/blob/master/Tensorflow%20v.2/Conditional_GAN.ipynb\" target=\"_parent\"><img src=\"https://colab.research.google.com/assets/colab-badge.svg\" alt=\"Open In Colab\"/></a>"
      ]
    },
    {
      "cell_type": "code",
      "metadata": {
        "id": "gVu_U_ZC3JQY",
        "colab_type": "code",
        "outputId": "7df2aecc-412b-41fb-9438-9d391fd8c2c4",
        "colab": {
          "base_uri": "https://localhost:8080/",
          "height": 33
        }
      },
      "source": [
        "#To run in colab\n",
        "try:\n",
        "  %tensorflow_version 2.x\n",
        "except Exception:\n",
        "  pass\n"
      ],
      "execution_count": 1,
      "outputs": [
        {
          "output_type": "stream",
          "text": [
            "TensorFlow 2.x selected.\n"
          ],
          "name": "stdout"
        }
      ]
    },
    {
      "cell_type": "code",
      "metadata": {
        "id": "yXaaPyK-3PQ9",
        "colab_type": "code",
        "colab": {}
      },
      "source": [
        "import tensorflow as tf\n",
        "import numpy as np\n",
        "from matplotlib import pyplot as plt\n",
        "from tensorflow.keras import layers\n",
        "from IPython import display\n",
        "import time\n",
        "import random"
      ],
      "execution_count": 0,
      "outputs": []
    },
    {
      "cell_type": "code",
      "metadata": {
        "id": "qZS2ZY1F3p5A",
        "colab_type": "code",
        "colab": {}
      },
      "source": [
        "(train,label) , (test,_)  = tf.keras.datasets.mnist.load_data()"
      ],
      "execution_count": 0,
      "outputs": []
    },
    {
      "cell_type": "code",
      "metadata": {
        "id": "7n6vVoKP4E7l",
        "colab_type": "code",
        "colab": {}
      },
      "source": [
        "train_image = train.reshape(60000,28*28)/255"
      ],
      "execution_count": 0,
      "outputs": []
    },
    {
      "cell_type": "code",
      "metadata": {
        "id": "0IaFvvdL4ONr",
        "colab_type": "code",
        "colab": {}
      },
      "source": [
        "EPOCH = 1000\n",
        "bs = 128\n",
        "buffer = 60000"
      ],
      "execution_count": 0,
      "outputs": []
    },
    {
      "cell_type": "code",
      "metadata": {
        "id": "d2QmrQDYkkMG",
        "colab_type": "code",
        "colab": {
          "base_uri": "https://localhost:8080/",
          "height": 150
        },
        "outputId": "de24b43b-a25d-4fc4-c69b-611e2c0ff80a"
      },
      "source": [
        "\n",
        "label = tf.one_hot(label,10)\n",
        "tf.cast(train,tf.float64)\n",
        "tf.cast(label,tf.float64)"
      ],
      "execution_count": 6,
      "outputs": [
        {
          "output_type": "execute_result",
          "data": {
            "text/plain": [
              "<tf.Tensor: id=7, shape=(60000, 10), dtype=float64, numpy=\n",
              "array([[0., 0., 0., ..., 0., 0., 0.],\n",
              "       [1., 0., 0., ..., 0., 0., 0.],\n",
              "       [0., 0., 0., ..., 0., 0., 0.],\n",
              "       ...,\n",
              "       [0., 0., 0., ..., 0., 0., 0.],\n",
              "       [0., 0., 0., ..., 0., 0., 0.],\n",
              "       [0., 0., 0., ..., 0., 1., 0.]])>"
            ]
          },
          "metadata": {
            "tags": []
          },
          "execution_count": 6
        }
      ]
    },
    {
      "cell_type": "code",
      "metadata": {
        "id": "G6uoI-c54_zm",
        "colab_type": "code",
        "colab": {}
      },
      "source": [
        "train_image = tf.data.Dataset.from_tensor_slices((train_image,label)).shuffle(buffer).batch(128,True)\n"
      ],
      "execution_count": 0,
      "outputs": []
    },
    {
      "cell_type": "code",
      "metadata": {
        "id": "Ad-m0rlt5k6C",
        "colab_type": "code",
        "colab": {}
      },
      "source": [
        "class CONDITIONAL_GAN(tf.keras.Model):\n",
        "  \n",
        "  def __init__(self):\n",
        "    super(GAN,self).__init__()\n",
        "    \n",
        "    \n",
        "    #Binary Cross Entropy Loss\n",
        "    \n",
        "    \n",
        "    #Generator intitialization\n",
        "    \n",
        "    #Model\n",
        "    self.g_model = tf.keras.Sequential()\n",
        "    self.g_model.add(layers.Dense(256,activation='relu',input_shape=(110,)))\n",
        "    self.g_model.add(layers.Dropout(0.2))\n",
        "    self.g_model.add(layers.Dense(256,activation='relu'))\n",
        "    self.g_model.add(layers.Dropout(0.2))\n",
        "    self.g_model.add(layers.Dense(784,activation='tanh'))\n",
        "    \n",
        "    #Optimizer\n",
        "    self.g_optimizer = tf.keras.optimizers.Adam(1e-4)\n",
        "    \n",
        "    #Discriminator intitialization\n",
        "    \n",
        "    #Model\n",
        "    self.d_model = tf.keras.Sequential()\n",
        "    self.d_model.add(layers.Dense(256,activation='relu',input_shape=(794,)))\n",
        "    self.d_model.add(layers.Dropout(0.2))\n",
        "    self.d_model.add(layers.Dense(1,activation='sigmoid'))\n",
        "    \n",
        "    #Optimizer\n",
        "    self.d_optimizer = tf.keras.optimizers.Adam(1e-4)\n",
        "    \n",
        "  def forward(self,x,label,batch =bs):\n",
        "    z = tf.random.normal([batch, 100])\n",
        "    z = tf.cast(z,tf.float64)\n",
        "    \n",
        "    z  = tf.concat([z,label],1)\n",
        "    \n",
        "    generator_output = self.g_model(z)\n",
        "    \n",
        "    generator_output = tf.cast(generator_output,tf.float64)\n",
        "    generator_output =tf.concat([generator_output,label],1)\n",
        "    self.fake_output = self.d_model(generator_output)\n",
        "    self.real_output = self.d_model(x)\n",
        "    \n",
        "    \n",
        "  def loss(self,x):\n",
        "    \n",
        "    # Define Cross Entropy\n",
        "    cross_entropy = tf.keras.losses.BinaryCrossentropy(from_logits=True)\n",
        "    \n",
        "    # GEnerator Loss\n",
        "    self.g_loss = cross_entropy(tf.ones_like(self.fake_output), self.fake_output)\n",
        "    \n",
        "    \n",
        "    # Discriminator Loss of real and fake\n",
        "    d_fake = cross_entropy(tf.zeros_like(self.fake_output), self.fake_output)\n",
        "    d_real = cross_entropy(tf.ones_like(self.real_output), self.real_output)\n",
        "    \n",
        "    self.d_loss = d_fake+d_real\n",
        "    \n",
        "    return self.g_loss,self.d_loss\n",
        "  \n",
        "  \n",
        "  @tf.function\n",
        "  def train(self, x,label):\n",
        "      \n",
        "      #Taking step for mini-batch \n",
        "      with tf.GradientTape() as gen_tape, tf.GradientTape() as disc_tape:\n",
        "            self.forward(x,label)\n",
        "            g_loss , d_loss = self.loss(x)\n",
        "        \n",
        "      g_gradients = gen_tape.gradient(g_loss, self.g_model.trainable_variables)\n",
        "      d_gradients = disc_tape.gradient(d_loss, self.d_model.trainable_variables)\n",
        "      \n",
        "      self.g_optimizer.apply_gradients(zip(g_gradients,self.g_model.trainable_variables))\n",
        "      self.d_optimizer.apply_gradients(zip(d_gradients,self.d_model.trainable_variables))\n",
        "      \n",
        "\n",
        "     \n",
        "\n",
        "  "
      ],
      "execution_count": 0,
      "outputs": []
    },
    {
      "cell_type": "code",
      "metadata": {
        "id": "k-apfkP7HLEy",
        "colab_type": "code",
        "colab": {}
      },
      "source": [
        "def generate_and_save_images(model, epoch):\n",
        "  a = random.randint(0,9)\n",
        "  print(a)\n",
        "  value = tf.convert_to_tensor([a]*16)\n",
        "  test_input = tf.random.normal([16, 100])\n",
        "  predict = tf.one_hot(value,10)\n",
        "  test_input = tf.concat([test_input,predict],1)\n",
        "  predictions = model(test_input, training=False).numpy().reshape(-1,28,28,1)\n",
        " \n",
        "  fig = plt.figure(figsize=(4,4))\n",
        "\n",
        "  for i in range(predictions.shape[0]):\n",
        "      plt.subplot(4, 4, i+1)\n",
        "      a = predictions[i, :, :, 0] * 127.5  \n",
        "      a[a<10]=0\n",
        "      plt.imshow(a, cmap='gray')\n",
        "      plt.axis('off')\n",
        "  if epoch%10==0:\n",
        "      plt.savefig('image_at_epoch_{:04d}.png'.format(epoch))\n",
        "      pass\n",
        "  plt.show()"
      ],
      "execution_count": 0,
      "outputs": []
    },
    {
      "cell_type": "code",
      "metadata": {
        "id": "zGuY0Xy2GibO",
        "colab_type": "code",
        "colab": {}
      },
      "source": [
        "gan = CONDITIONAL_GAN()"
      ],
      "execution_count": 0,
      "outputs": []
    },
    {
      "cell_type": "code",
      "metadata": {
        "id": "IKM9ZrBI5nZa",
        "colab_type": "code",
        "colab": {}
      },
      "source": [
        "for epoch in range(0,EPOCH+1):\n",
        "  start = time.time()\n",
        "  for  x,l in train_image:\n",
        "    l =tf.cast(l,tf.float64)\n",
        "    x = tf.concat([x,l],1)\n",
        "    \n",
        "    cgan.train(x,l)\n",
        "  display.clear_output(wait=True)\n",
        "  generate_and_save_images(gan.g_model,\n",
        "                             epoch )\n",
        "    \n",
        "  print ('Time for epoch {} is {} sec'.format(epoch , time.time()-start))\n",
        "    \n",
        "    \n",
        "    \n",
        "  "
      ],
      "execution_count": 0,
      "outputs": []
    }
  ]
}