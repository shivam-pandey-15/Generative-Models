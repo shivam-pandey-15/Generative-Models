{
  "nbformat": 4,
  "nbformat_minor": 0,
  "metadata": {
    "colab": {
      "name": "Wgan_pytorch.ipynb",
      "provenance": [],
      "collapsed_sections": [],
      "include_colab_link": true
    },
    "kernelspec": {
      "name": "python3",
      "display_name": "Python 3"
    },
    "accelerator": "GPU"
  },
  "cells": [
    {
      "cell_type": "markdown",
      "metadata": {
        "id": "view-in-github",
        "colab_type": "text"
      },
      "source": [
        "<a href=\"https://colab.research.google.com/github/shivam-pandey-15/Generative-Models/blob/master/PyTorch/WGAN.ipynb\" target=\"_parent\"><img src=\"https://colab.research.google.com/assets/colab-badge.svg\" alt=\"Open In Colab\"/></a>"
      ]
    },
    {
      "cell_type": "code",
      "metadata": {
        "id": "fpvTdivG03y9",
        "colab_type": "code",
        "colab": {}
      },
      "source": [
        "import torch\n",
        "import torchvision\n",
        "from torch import nn, optim\n",
        "from torch.autograd.variable import Variable\n",
        "from torchvision import transforms, datasets\n",
        "\n",
        "from matplotlib import pyplot as plt\n",
        "from IPython import display\n",
        "%load_ext autoreload\n",
        "%autoreload 2"
      ],
      "execution_count": 0,
      "outputs": []
    },
    {
      "cell_type": "code",
      "metadata": {
        "id": "XGT-sQ4G04y9",
        "colab_type": "code",
        "outputId": "c8e03e7f-d8e5-4b16-dc3e-65cf04758a2d",
        "colab": {
          "base_uri": "https://localhost:8080/",
          "height": 269
        }
      },
      "source": [
        "#Used fashion mnist dataset\n",
        "transform = transforms.Compose(\n",
        "        [transforms.ToTensor(),\n",
        "         transforms.Normalize([0.5], [0.5])\n",
        "        ])\n",
        "mnist = datasets.MNIST(root='./mnist', train=True, transform=transform, download=True)\n",
        "mnist.data.shape\n"
      ],
      "execution_count": 0,
      "outputs": [
        {
          "output_type": "stream",
          "text": [
            "\r0it [00:00, ?it/s]"
          ],
          "name": "stderr"
        },
        {
          "output_type": "stream",
          "text": [
            "Downloading http://yann.lecun.com/exdb/mnist/train-images-idx3-ubyte.gz to ./mnist/MNIST/raw/train-images-idx3-ubyte.gz\n"
          ],
          "name": "stdout"
        },
        {
          "output_type": "stream",
          "text": [
            "9920512it [00:02, 4110235.79it/s]                             \n"
          ],
          "name": "stderr"
        },
        {
          "output_type": "stream",
          "text": [
            "Extracting ./mnist/MNIST/raw/train-images-idx3-ubyte.gz\n"
          ],
          "name": "stdout"
        },
        {
          "output_type": "stream",
          "text": [
            "\r0it [00:00, ?it/s]"
          ],
          "name": "stderr"
        },
        {
          "output_type": "stream",
          "text": [
            "Downloading http://yann.lecun.com/exdb/mnist/train-labels-idx1-ubyte.gz to ./mnist/MNIST/raw/train-labels-idx1-ubyte.gz\n"
          ],
          "name": "stdout"
        },
        {
          "output_type": "stream",
          "text": [
            "32768it [00:00, 68193.20it/s]                            \n",
            "0it [00:00, ?it/s]"
          ],
          "name": "stderr"
        },
        {
          "output_type": "stream",
          "text": [
            "Extracting ./mnist/MNIST/raw/train-labels-idx1-ubyte.gz\n",
            "Downloading http://yann.lecun.com/exdb/mnist/t10k-images-idx3-ubyte.gz to ./mnist/MNIST/raw/t10k-images-idx3-ubyte.gz\n"
          ],
          "name": "stdout"
        },
        {
          "output_type": "stream",
          "text": [
            "1654784it [00:01, 1176983.73it/s]                            \n",
            "0it [00:00, ?it/s]"
          ],
          "name": "stderr"
        },
        {
          "output_type": "stream",
          "text": [
            "Extracting ./mnist/MNIST/raw/t10k-images-idx3-ubyte.gz\n",
            "Downloading http://yann.lecun.com/exdb/mnist/t10k-labels-idx1-ubyte.gz to ./mnist/MNIST/raw/t10k-labels-idx1-ubyte.gz\n"
          ],
          "name": "stdout"
        },
        {
          "output_type": "stream",
          "text": [
            "8192it [00:00, 25794.42it/s]            "
          ],
          "name": "stderr"
        },
        {
          "output_type": "stream",
          "text": [
            "Extracting ./mnist/MNIST/raw/t10k-labels-idx1-ubyte.gz\n",
            "Processing...\n",
            "Done!\n"
          ],
          "name": "stdout"
        },
        {
          "output_type": "stream",
          "text": [
            "\n"
          ],
          "name": "stderr"
        },
        {
          "output_type": "execute_result",
          "data": {
            "text/plain": [
              "torch.Size([60000, 28, 28])"
            ]
          },
          "metadata": {
            "tags": []
          },
          "execution_count": 2
        }
      ]
    },
    {
      "cell_type": "code",
      "metadata": {
        "id": "EWCG2Tes1r_6",
        "colab_type": "code",
        "colab": {}
      },
      "source": [
        "\n",
        "Epoch = 1000\n",
        "CUDA = torch.cuda.is_available()\n",
        "batch_size = 128\n",
        "data_loader = torch.utils.data.DataLoader(mnist, batch_size=batch_size, shuffle=True)"
      ],
      "execution_count": 0,
      "outputs": []
    },
    {
      "cell_type": "code",
      "metadata": {
        "id": "rF63PX2LHWFy",
        "colab_type": "code",
        "outputId": "c2fdb8a7-928b-41ee-c83a-9999ab0ac8c3",
        "colab": {
          "base_uri": "https://localhost:8080/",
          "height": 34
        }
      },
      "source": [
        "CUDA"
      ],
      "execution_count": 0,
      "outputs": [
        {
          "output_type": "execute_result",
          "data": {
            "text/plain": [
              "True"
            ]
          },
          "metadata": {
            "tags": []
          },
          "execution_count": 4
        }
      ]
    },
    {
      "cell_type": "code",
      "metadata": {
        "id": "k3zdvgdM1zKZ",
        "colab_type": "code",
        "colab": {}
      },
      "source": [
        "class Discriminator(torch.nn.Module):\n",
        "  def __init__(self):\n",
        "    super(Discriminator,self).__init__()\n",
        "    in_features = 784\n",
        "    hidden1 = 256\n",
        "    hidden2 = 256\n",
        "    out_features = 1\n",
        "    \n",
        "    \n",
        "    self.hid1 = nn.Sequential(nn.Linear(in_features,hidden1), nn.ReLU(),nn.Dropout(0.1))\n",
        "    self.hid2 = nn.Sequential(nn.Linear(hidden1,hidden2), nn.ReLU(),nn.Dropout(0.1))\n",
        "    self.out  = nn.Sequential(nn.Linear(hidden2,out_features), nn.Sigmoid())\n",
        "    \n",
        "  def forward(self,x):\n",
        "    x = self.hid1(x)\n",
        "    x = self.hid2(x)\n",
        "    x = self.out(x)\n",
        "    return x"
      ],
      "execution_count": 0,
      "outputs": []
    },
    {
      "cell_type": "code",
      "metadata": {
        "id": "6aWgHHei2FJw",
        "colab_type": "code",
        "colab": {}
      },
      "source": [
        "\n",
        "class Generator(torch.nn.Module):\n",
        "    \n",
        "    def __init__(self):\n",
        "        super(Generator, self).__init__()\n",
        "        in_features = 100\n",
        "        hidden1 = 256\n",
        "        hidden2 = 256\n",
        "        out_features = 784\n",
        "        \n",
        "        self.hid1 = nn.Sequential(nn.Linear(in_features,hidden1), nn.ReLU(),nn.Dropout(0.1))\n",
        "        self.hid2 = nn.Sequential(nn.Linear(hidden1,hidden2), nn.ReLU(),nn.Dropout(0.1))\n",
        "        self.out  = nn.Sequential(nn.Linear(hidden2,out_features), nn.Tanh())\n",
        "\n",
        "    def forward(self, x):\n",
        "        x = self.hid1(x)\n",
        "        x = self.hid2(x)\n",
        "        x = self.out(x)\n",
        "        return x\n",
        "      \n",
        "    def image(self,size):\n",
        "        n = Variable(torch.randn(size, 100))\n",
        "        if CUDA:\n",
        "          n = n.cuda()\n",
        "        return self.forward(n)\n",
        "        "
      ],
      "execution_count": 0,
      "outputs": []
    },
    {
      "cell_type": "code",
      "metadata": {
        "id": "JedmljIC_-oF",
        "colab_type": "code",
        "colab": {}
      },
      "source": [
        "generator = Generator()\n",
        "discriminator = Discriminator()\n",
        "if CUDA:\n",
        "    discriminator.cuda()\n",
        "    generator.cuda()\n",
        "   "
      ],
      "execution_count": 0,
      "outputs": []
    },
    {
      "cell_type": "code",
      "metadata": {
        "id": "P84HXGmQBoNe",
        "colab_type": "code",
        "colab": {}
      },
      "source": [
        "d_optimizer = optim.RMSprop(discriminator.parameters(), lr=0.0002)\n",
        "g_optimizer = optim.RMSprop(generator.parameters(), lr=0.001)\n"
      ],
      "execution_count": 0,
      "outputs": []
    },
    {
      "cell_type": "code",
      "metadata": {
        "id": "XoxYQrW7CDF9",
        "colab_type": "code",
        "colab": {}
      },
      "source": [
        "def discriminator_train(real,fake,clip_value=0.01):\n",
        "  \n",
        "  real_label = Variable(torch.ones(real.shape[0])).cuda() if CUDA else Variable(torch.ones(real.shape[0]))\n",
        "  fake_label = Variable(torch.zeros(real.shape[0])).cuda() if CUDA else Variable(torch.zeros(real.shape[0]))\n",
        "  \n",
        "  d_optimizer.zero_grad()\n",
        "  \n",
        "  real_predict = discriminator(real)\n",
        "  fake_predict = discriminator(fake)\n",
        "  \n",
        "  delta =-torch.mean(real_predict) + torch.mean(fake_predict)\n",
        "  delta.backward()\n",
        "  \n",
        "  d_optimizer.step()\n",
        "  for p in discriminator.parameters():\n",
        "            p.data.clamp_(-clip_value, clip_value)\n",
        "\n",
        "  \n",
        "  return real_predict , fake_predict , delta\n",
        "\n",
        "def generator_train(fake):\n",
        "  \n",
        "  fake_label = Variable(torch.ones(fake.shape[0])).cuda() if CUDA else Variable(torch.ones(fake.shape[0]))\n",
        "  g_optimizer.zero_grad()\n",
        "  \n",
        "  predict = discriminator(fake)\n",
        "  delta = -torch.mean(predict)\n",
        "  delta.backward()\n",
        "  \n",
        "  g_optimizer.step()\n",
        "  \n",
        "  return predict , delta\n",
        "    "
      ],
      "execution_count": 0,
      "outputs": []
    },
    {
      "cell_type": "code",
      "metadata": {
        "id": "rN3UdVQCl6VM",
        "colab_type": "code",
        "colab": {}
      },
      "source": [
        "def plot_images(epoch=0):\n",
        "  images = generator.image(16)\n",
        "  images = images.view(images.size(0), 1, 28, 28)\n",
        "  figure = plt.figure()\n",
        "  num_of_images = 16\n",
        "  for index in range(1, num_of_images + 1):\n",
        "      plt.subplot(4, 4, index)\n",
        "      plt.axis('off')\n",
        "      plt.imshow(images[index-1].cpu().detach().numpy().squeeze(), cmap='gray')\n",
        "  if epoch%10 == 0 and epoch!= 0:\n",
        "    plt.savefig('Epoch_{:04d}.png'.format(epoch)) \n",
        "  plt.show()"
      ],
      "execution_count": 0,
      "outputs": []
    },
    {
      "cell_type": "code",
      "metadata": {
        "id": "NfnkS87tDZ2F",
        "colab_type": "code",
        "outputId": "b3d58527-066e-48fb-8733-df5eb0336241",
        "colab": {
          "base_uri": "https://localhost:8080/"
        }
      },
      "source": [
        "for epoch in range(Epoch):\n",
        "  \n",
        "  for batch , (train_data , label ) in enumerate(data_loader):\n",
        "    train_data = train_data.view(train_data.size(0), 784)\n",
        "    real = train_data.cuda() if CUDA else train_data\n",
        "    fake = generator.image(real.shape[0]).detach()\n",
        "    real_predict , fake_predict , derror = discriminator_train(real,fake) \n",
        "    \n",
        "    fake = generator.image(real.shape[0])\n",
        "    if batch%5==0:\n",
        "      generator_predict , gerror = generator_train(fake)\n",
        "    \n",
        "  display.clear_output(True)  \n",
        "  print(\"Epoch:{} [{}/{}] DError:{} GError:{}\".format(epoch,batch,len(data_loader), derror.mean(),gerror.mean() ))\n",
        "  plot_images()\n",
        "    \n",
        "    \n",
        "\n"
      ],
      "execution_count": 0,
      "outputs": [
        {
          "output_type": "stream",
          "text": [
            "Epoch:231 [468/469] DError:-8.344650268554688e-07 GError:-0.5025012493133545\n"
          ],
          "name": "stdout"
        },
        {
          "output_type": "display_data",
          "data": {
            "image/png": "[encoded data removed]",
            "text/plain": [
              "<Figure size 432x288 with 16 Axes>"
            ]
          },
          "metadata": {
            "tags": []
          }
        }
      ]
    },
    {
      "cell_type": "code",
      "metadata": {
        "id": "Bv8jddjiMmSb",
        "colab_type": "code",
        "colab": {}
      },
      "source": [
        ""
      ],
      "execution_count": 0,
      "outputs": []
    }
  ]
}