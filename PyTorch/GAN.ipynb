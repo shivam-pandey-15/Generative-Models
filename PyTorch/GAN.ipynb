{
  "nbformat": 4,
  "nbformat_minor": 0,
  "metadata": {
    "colab": {
      "name": "Vanilla GAN PyTorch F-MNIST.ipynb",
      "version": "0.3.2",
      "provenance": [],
      "collapsed_sections": []
    },
    "kernelspec": {
      "name": "python3",
      "display_name": "Python 3"
    },
    "accelerator": "GPU"
  },
  "cells": [
    {
      "cell_type": "code",
      "metadata": {
        "id": "fpvTdivG03y9",
        "colab_type": "code",
        "colab": {}
      },
      "source": [
        "import torch\n",
        "import torchvision\n",
        "from torch import nn, optim\n",
        "from torch.autograd.variable import Variable\n",
        "from torchvision import transforms, datasets\n",
        "\n",
        "from matplotlib import pyplot as plt\n",
        "from IPython import display\n",
        "%load_ext autoreload\n",
        "%autoreload 2"
      ],
      "execution_count": 0,
      "outputs": []
    },
    {
      "cell_type": "code",
      "metadata": {
        "id": "XGT-sQ4G04y9",
        "colab_type": "code",
        "colab": {}
      },
      "source": [
        "#Used fashion mnist dataset\n",
        "transform = transforms.Compose(\n",
        "        [transforms.ToTensor(),\n",
        "         transforms.Normalize([0.5], [0.5])\n",
        "        ])\n",
        "mnist = datasets.FashionMNIST(root='./mnist', train=True, transform=transform, download=True)\n",
        "mnist.data.shape\n"
      ],
      "execution_count": 0,
      "outputs": []
    },
    {
      "cell_type": "code",
      "metadata": {
        "id": "EWCG2Tes1r_6",
        "colab_type": "code",
        "colab": {}
      },
      "source": [
        "\n",
        "Epoch = 1000\n",
        "CUDA = torch.cuda.is_available()\n",
        "batch_size = 128\n",
        "data_loader = torch.utils.data.DataLoader(mnist, batch_size=batch_size, shuffle=True)"
      ],
      "execution_count": 0,
      "outputs": []
    },
    {
      "cell_type": "code",
      "metadata": {
        "id": "rF63PX2LHWFy",
        "colab_type": "code",
        "outputId": "354f50c8-733a-4537-fbbb-5d821f2281f1",
        "colab": {
          "base_uri": "https://localhost:8080/",
          "height": 33
        }
      },
      "source": [
        "CUDA"
      ],
      "execution_count": 4,
      "outputs": [
        {
          "output_type": "execute_result",
          "data": {
            "text/plain": [
              "True"
            ]
          },
          "metadata": {
            "tags": []
          },
          "execution_count": 4
        }
      ]
    },
    {
      "cell_type": "code",
      "metadata": {
        "id": "k3zdvgdM1zKZ",
        "colab_type": "code",
        "colab": {}
      },
      "source": [
        "class Discriminator(torch.nn.Module):\n",
        "  def __init__(self):\n",
        "    super(Discriminator,self).__init__()\n",
        "    in_features = 784\n",
        "    hidden1 = 256\n",
        "    hidden2 = 256\n",
        "    out_features = 1\n",
        "    \n",
        "    \n",
        "    self.hid1 = nn.Sequential(nn.Linear(in_features,hidden1), nn.ReLU(),nn.Dropout(0.1))\n",
        "    self.hid2 = nn.Sequential(nn.Linear(hidden1,hidden2), nn.ReLU(),nn.Dropout(0.1))\n",
        "    self.out  = nn.Sequential(nn.Linear(hidden2,out_features), nn.Sigmoid())\n",
        "    \n",
        "  def forward(self,x):\n",
        "    x = self.hid1(x)\n",
        "    x = self.hid2(x)\n",
        "    x = self.out(x)\n",
        "    return x"
      ],
      "execution_count": 0,
      "outputs": []
    },
    {
      "cell_type": "code",
      "metadata": {
        "id": "6aWgHHei2FJw",
        "colab_type": "code",
        "colab": {}
      },
      "source": [
        "\n",
        "class Generator(torch.nn.Module):\n",
        "    \n",
        "    def __init__(self):\n",
        "        super(Generator, self).__init__()\n",
        "        in_features = 100\n",
        "        hidden1 = 256\n",
        "        hidden2 = 256\n",
        "        out_features = 784\n",
        "        \n",
        "        self.hid1 = nn.Sequential(nn.Linear(in_features,hidden1), nn.ReLU(),nn.Dropout(0.1))\n",
        "        self.hid2 = nn.Sequential(nn.Linear(hidden1,hidden2), nn.ReLU(),nn.Dropout(0.1))\n",
        "        self.out  = nn.Sequential(nn.Linear(hidden2,out_features), nn.Tanh())\n",
        "\n",
        "    def forward(self, x):\n",
        "        x = self.hid1(x)\n",
        "        x = self.hid2(x)\n",
        "        x = self.out(x)\n",
        "        return x\n",
        "      \n",
        "    def image(self,size):\n",
        "        n = Variable(torch.randn(size, 100))\n",
        "        if CUDA:\n",
        "          n = n.cuda()\n",
        "        return self.forward(n)\n",
        "        "
      ],
      "execution_count": 0,
      "outputs": []
    },
    {
      "cell_type": "code",
      "metadata": {
        "id": "JedmljIC_-oF",
        "colab_type": "code",
        "colab": {}
      },
      "source": [
        "generator = Generator()\n",
        "discriminator = Discriminator()\n",
        "if CUDA:\n",
        "    discriminator.cuda()\n",
        "    generator.cuda()\n",
        "   "
      ],
      "execution_count": 0,
      "outputs": []
    },
    {
      "cell_type": "code",
      "metadata": {
        "id": "P84HXGmQBoNe",
        "colab_type": "code",
        "colab": {}
      },
      "source": [
        "d_optimizer = optim.Adam(discriminator.parameters(), lr=0.0002)\n",
        "g_optimizer = optim.Adam(generator.parameters(), lr=0.001)\n",
        "loss = nn.BCELoss()"
      ],
      "execution_count": 0,
      "outputs": []
    },
    {
      "cell_type": "code",
      "metadata": {
        "id": "XoxYQrW7CDF9",
        "colab_type": "code",
        "colab": {}
      },
      "source": [
        "def discriminator_train(real,fake):\n",
        "  \n",
        "  real_label = Variable(torch.ones(real.shape[0])).cuda() if CUDA else Variable(torch.ones(real.shape[0]))\n",
        "  fake_label = Variable(torch.zeros(real.shape[0])).cuda() if CUDA else Variable(torch.zeros(real.shape[0]))\n",
        "  \n",
        "  d_optimizer.zero_grad()\n",
        "  \n",
        "  real_predict = discriminator(real)\n",
        "  \n",
        "  delta_real = loss(real_predict , real_label)\n",
        "  delta_real.backward()\n",
        "\n",
        "  fake_predict = discriminator(fake)\n",
        "  delta_fake = loss(fake_predict , fake_label)\n",
        "  delta_fake.backward()\n",
        "  \n",
        "  d_optimizer.step()\n",
        "  \n",
        "  delta = delta_real + delta_fake\n",
        "  \n",
        "  return real_predict , fake_predict , delta\n",
        "\n",
        "def generator_train(fake):\n",
        "  \n",
        "  fake_label = Variable(torch.ones(fake.shape[0])).cuda() if CUDA else Variable(torch.ones(fake.shape[0]))\n",
        "  g_optimizer.zero_grad()\n",
        "  \n",
        "  predict = discriminator(fake)\n",
        "  delta = loss(predict , fake_label)\n",
        "  delta.backward()\n",
        "  \n",
        "  g_optimizer.step()\n",
        "  \n",
        "  return predict , delta\n",
        "    "
      ],
      "execution_count": 0,
      "outputs": []
    },
    {
      "cell_type": "code",
      "metadata": {
        "id": "rN3UdVQCl6VM",
        "colab_type": "code",
        "colab": {}
      },
      "source": [
        "def plot_images(epoch=0):\n",
        "  images = generator.image(16)\n",
        "  images = images.view(images.size(0), 1, 28, 28)\n",
        "  figure = plt.figure()\n",
        "  num_of_images = 16\n",
        "  for index in range(1, num_of_images + 1):\n",
        "      plt.subplot(4, 4, index)\n",
        "      plt.axis('off')\n",
        "      plt.imshow(images[index-1].cpu().detach().numpy().squeeze(), cmap='gray')\n",
        "  if epoch%10 == 0 and epoch!= 0:\n",
        "    plt.savefig('Epoch_{:04d}.png'.format(epoch)) \n",
        "  plt.show()"
      ],
      "execution_count": 0,
      "outputs": []
    },
    {
      "cell_type": "code",
      "metadata": {
        "id": "NfnkS87tDZ2F",
        "colab_type": "code",
        "colab": {}
      },
      "source": [
        "for epoch in range(Epoch):\n",
        "  \n",
        "  for batch , (train_data , label ) in enumerate(data_loader):\n",
        "    train_data = train_data.view(train_data.size(0), 784)\n",
        "    real = train_data.cuda() if CUDA else train_data\n",
        "    fake = generator.image(real.shape[0]).detach()\n",
        "    real_predict , fake_predict , derror = discriminator_train(real,fake) \n",
        "    \n",
        "    fake = generator.image(real.shape[0])\n",
        "    generator_predict , gerror = generator_train(fake)\n",
        "    \n",
        "  display.clear_output(True)  \n",
        "  print(\"Epoch:{} [{}/{}] DError:{} GError:{}\".format(epoch,batch,len(data_loader), derror.mean(),gerror.mean() ))\n",
        "  plot_images()\n",
        "    \n",
        "    \n",
        "\n"
      ],
      "execution_count": 0,
      "outputs": []
    }
  ]
}